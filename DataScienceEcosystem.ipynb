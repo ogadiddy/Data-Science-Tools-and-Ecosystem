{
 "cells": [
  {
   "cell_type": "markdown",
   "id": "a6a56953-13c0-4ae1-864b-9d1d91949068",
   "metadata": {},
   "source": [
    "# Data Science Tools and Ecosystem\n"
   ]
  },
  {
   "cell_type": "markdown",
   "id": "349d6a3d-c543-4a6c-98ff-6dc8c8873e4b",
   "metadata": {
    "tags": []
   },
   "source": [
    "In this note book, Data science tools and ecosystem are summarized"
   ]
  },
  {
   "cell_type": "markdown",
   "id": "7d75a17e-f12b-436b-9a77-0de9fa8fb34c",
   "metadata": {},
   "source": [
    "**Objective**"
   ]
  },
  {
   "cell_type": "markdown",
   "id": "260b2406-feef-47b3-bbf5-5a07f3e823f3",
   "metadata": {},
   "source": [
    "* Python\n",
    "* SQL\n",
    "* R\n",
    "* Julia"
   ]
  },
  {
   "cell_type": "markdown",
   "id": "b9caf0ef-ef27-4f62-86b6-3a19e091ab10",
   "metadata": {},
   "source": [
    "Some of the popular languages that Data Scientists use are:"
   ]
  },
  {
   "cell_type": "markdown",
   "id": "eabe040b-516c-4d57-a463-a133306ed717",
   "metadata": {},
   "source": [
    "1. Python\n",
    "2. SQL\n",
    "3. R"
   ]
  },
  {
   "cell_type": "markdown",
   "id": "69ffa597-d6d5-4143-88ec-479cdf78611b",
   "metadata": {
    "tags": []
   },
   "source": [
    "Some of the commonly used libraries used by Data Scientists include:"
   ]
  },
  {
   "cell_type": "markdown",
   "id": "5d21048f-29e5-406c-b90d-bc4e6cab3b0e",
   "metadata": {},
   "source": [
    "1. Panda\n",
    "2. Numpy\n",
    "3. Matplotlib\n",
    "4. TensorFlow\n",
    "\n"
   ]
  },
  {
   "cell_type": "markdown",
   "id": "a7d851de-1cce-4279-9367-0fbdf123f00c",
   "metadata": {
    "tags": []
   },
   "source": [
    "| Data Science Tools          |\n",
    "| --------------------------- |\n",
    "| Jupyter Notebook            |\n",
    "| RStudio                     |\n",
    "| VS Code with Python plugin  |\n"
   ]
  },
  {
   "cell_type": "markdown",
   "id": "d75a9925-41c8-4bc1-817d-ad544cc60548",
   "metadata": {
    "tags": []
   },
   "source": [
    "### Below are a few examples of evaluating arithmetic expressions in Python.\n",
    "\n",
    "In Python, you can perform various arithmetic operations to manipulate numeric values. The following examples illustrate basic arithmetic expressions:\n",
    "\n"
   ]
  },
  {
   "cell_type": "markdown",
   "id": "3fbc307c-b864-49b7-8a2f-dc213beb030a",
   "metadata": {
    "tags": []
   },
   "source": [
    "1. Addition:"
   ]
  },
  {
   "cell_type": "code",
   "execution_count": 9,
   "id": "0127fe61-95b8-476c-996f-b3a1e397737e",
   "metadata": {
    "tags": []
   },
   "outputs": [
    {
     "data": {
      "text/plain": [
       "8"
      ]
     },
     "execution_count": 9,
     "metadata": {},
     "output_type": "execute_result"
    }
   ],
   "source": [
    "5+3"
   ]
  },
  {
   "cell_type": "markdown",
   "id": "563a36f0-190d-4539-ac99-7bed12fda63a",
   "metadata": {},
   "source": [
    "Subtraction"
   ]
  },
  {
   "cell_type": "code",
   "execution_count": 10,
   "id": "55a0ff74-5873-4c60-b44c-a261fd611b7c",
   "metadata": {
    "tags": []
   },
   "outputs": [
    {
     "data": {
      "text/plain": [
       "6"
      ]
     },
     "execution_count": 10,
     "metadata": {},
     "output_type": "execute_result"
    }
   ],
   "source": [
    "9-3"
   ]
  },
  {
   "cell_type": "markdown",
   "id": "95b83107-b4be-4a8d-9769-2b2f2b30b50f",
   "metadata": {},
   "source": [
    "Multiplication"
   ]
  },
  {
   "cell_type": "code",
   "execution_count": 11,
   "id": "96fffa77-1876-41f5-b41d-1d12f5086cd3",
   "metadata": {
    "tags": []
   },
   "outputs": [
    {
     "data": {
      "text/plain": [
       "20"
      ]
     },
     "execution_count": 11,
     "metadata": {},
     "output_type": "execute_result"
    }
   ],
   "source": [
    "5*4"
   ]
  },
  {
   "cell_type": "markdown",
   "id": "4f34327d-4aef-4e41-af44-ca616f46b541",
   "metadata": {},
   "source": [
    "This a simple arithmetic expression to mutiply then add integers"
   ]
  },
  {
   "cell_type": "code",
   "execution_count": 12,
   "id": "4dfa421d-b2a7-4f0e-b505-dc39999abfb4",
   "metadata": {
    "tags": []
   },
   "outputs": [
    {
     "data": {
      "text/plain": [
       "17"
      ]
     },
     "execution_count": 12,
     "metadata": {},
     "output_type": "execute_result"
    }
   ],
   "source": [
    "(3*4)+5"
   ]
  },
  {
   "cell_type": "markdown",
   "id": "b13b0e3c-0090-4536-92e7-c3691aa871a2",
   "metadata": {},
   "source": [
    "This will convert 200 minutes to hours by diving by 60"
   ]
  },
  {
   "cell_type": "code",
   "execution_count": 13,
   "id": "7dc0f2e2-dfe6-4c02-a6e9-5bffd870465c",
   "metadata": {
    "tags": []
   },
   "outputs": [
    {
     "data": {
      "text/plain": [
       "3.3333333333333335"
      ]
     },
     "execution_count": 13,
     "metadata": {},
     "output_type": "execute_result"
    }
   ],
   "source": [
    "200/60"
   ]
  },
  {
   "cell_type": "markdown",
   "id": "4d40f16f-3600-40d7-8d5b-503d95e7933e",
   "metadata": {
    "tags": []
   },
   "source": [
    "## Author"
   ]
  },
  {
   "cell_type": "markdown",
   "id": "d59eeeea-62dd-4e24-9545-cba29ad43649",
   "metadata": {
    "tags": []
   },
   "source": [
    "Bamidele David"
   ]
  },
  {
   "cell_type": "code",
   "execution_count": null,
   "id": "b06c1def-50dd-4aa4-93ca-733c6e9391dd",
   "metadata": {},
   "outputs": [],
   "source": []
  }
 ],
 "metadata": {
  "kernelspec": {
   "display_name": "Python",
   "language": "python",
   "name": "conda-env-python-py"
  },
  "language_info": {
   "codemirror_mode": {
    "name": "ipython",
    "version": 3
   },
   "file_extension": ".py",
   "mimetype": "text/x-python",
   "name": "python",
   "nbconvert_exporter": "python",
   "pygments_lexer": "ipython3",
   "version": "3.7.12"
  }
 },
 "nbformat": 4,
 "nbformat_minor": 5
}
